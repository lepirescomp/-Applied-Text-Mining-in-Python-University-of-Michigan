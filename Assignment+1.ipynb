{
 "cells": [
  {
   "cell_type": "markdown",
   "metadata": {},
   "source": [
    "---\n",
    "\n",
    "_You are currently looking at **version 1.1** of this notebook. To download notebooks and datafiles, as well as get help on Jupyter notebooks in the Coursera platform, visit the [Jupyter Notebook FAQ](https://www.coursera.org/learn/python-text-mining/resources/d9pwm) course resource._\n",
    "\n",
    "---"
   ]
  },
  {
   "cell_type": "markdown",
   "metadata": {},
   "source": [
    "# Assignment 1\n",
    "\n",
    "In this assignment, you'll be working with messy medical data and using regex to extract relevant infromation from the data. \n",
    "\n",
    "Each line of the `dates.txt` file corresponds to a medical note. Each note has a date that needs to be extracted, but each date is encoded in one of many formats.\n",
    "\n",
    "The goal of this assignment is to correctly identify all of the different date variants encoded in this dataset and to properly normalize and sort the dates. \n",
    "\n",
    "Here is a list of some of the variants you might encounter in this dataset:\n",
    "* 04/20/2009; 04/20/09; 4/20/09; 4/3/09\n",
    "* Mar-20-2009; Mar 20, 2009; March 20, 2009;  Mar. 20, 2009; Mar 20 2009;\n",
    "* 20 Mar 2009; 20 March 2009; 20 Mar. 2009; 20 March, 2009\n",
    "* Mar 20th, 2009; Mar 21st, 2009; Mar 22nd, 2009\n",
    "* Feb 2009; Sep 2009; Oct 2010\n",
    "* 6/2008; 12/2009\n",
    "* 2009; 2010\n",
    "\n",
    "Once you have extracted these date patterns from the text, the next step is to sort them in ascending chronological order accoring to the following rules:\n",
    "* Assume all dates in xx/xx/xx format are mm/dd/yy\n",
    "* Assume all dates where year is encoded in only two digits are years from the 1900's (e.g. 1/5/89 is January 5th, 1989)\n",
    "* If the day is missing (e.g. 9/2009), assume it is the first day of the month (e.g. September 1, 2009).\n",
    "* If the month is missing (e.g. 2010), assume it is the first of January of that year (e.g. January 1, 2010).\n",
    "* Watch out for potential typos as this is a raw, real-life derived dataset.\n",
    "\n",
    "With these rules in mind, find the correct date in each note and return a pandas Series in chronological order of the original Series' indices.\n",
    "\n",
    "For example if the original series was this:\n",
    "\n",
    "    0    1999\n",
    "    1    2010\n",
    "    2    1978\n",
    "    3    2015\n",
    "    4    1985\n",
    "\n",
    "Your function should return this:\n",
    "\n",
    "    0    2\n",
    "    1    4\n",
    "    2    0\n",
    "    3    1\n",
    "    4    3\n",
    "\n",
    "Your score will be calculated using [Kendall's tau](https://en.wikipedia.org/wiki/Kendall_rank_correlation_coefficient), a correlation measure for ordinal data.\n",
    "\n",
    "*This function should return a Series of length 500 and dtype int.*"
   ]
  },
  {
   "cell_type": "code",
   "execution_count": 1,
   "metadata": {
    "collapsed": true
   },
   "outputs": [],
   "source": [
    "import pandas as pd\n",
    "\n",
    "doc = []\n",
    "with open('dates.txt') as file:\n",
    "    for line in file:\n",
    "        doc.append(line)\n",
    "# tenho que achar 500 datas\n",
    "df = pd.Series(doc)\n",
    "df=df.to_frame()"
   ]
  },
  {
   "cell_type": "code",
   "execution_count": 2,
   "metadata": {
    "collapsed": true
   },
   "outputs": [],
   "source": [
    "\n",
    "\n",
    "def grupo1(df):\n",
    "    grupo1=df[0].str.findall(r'(\\d?\\d)[\\-\\/](\\d?\\d)[\\-\\/](\\d{2,4})')\n",
    "    df[\"jaPassei1\"]=df[0].str.contains(r'(\\d?\\d)[\\-\\/](\\d?\\d)[\\-\\/](\\d{2,4})')\n",
    "#     dataframeGrupo2.iloc[i,0]=dataframeGrupo2.iloc[i,0][0][0]\n",
    "    dataframeGrupo1=pd.DataFrame(grupo1)\n",
    "    dataframeGrupo1=dataframeGrupo1[dataframeGrupo1.astype(str)[0]!='[]']\n",
    "    for i in range(dataframeGrupo1.shape[0]):\n",
    "        dataframeGrupo1.iloc[i,0]=dataframeGrupo1.iloc[i,0][0][0]+\"/\"+dataframeGrupo1.iloc[i,0][0][1]+\"/\"+dataframeGrupo1.iloc[i,0][0][2]\n",
    "    dataframeGrupo1=dataframeGrupo1.rename(index=int, columns={0:\"concat\"})\n",
    "    dataframeGrupo1['concat']=pd.to_datetime(dataframeGrupo1['concat'], infer_datetime_format=True)\n",
    "    dataframeGrupo1.dropna(inplace=True)\n",
    "#     df[\"jaPassei\"]=True\n",
    "    return dataframeGrupo1"
   ]
  },
  {
   "cell_type": "code",
   "execution_count": 3,
   "metadata": {},
   "outputs": [
    {
     "name": "stderr",
     "output_type": "stream",
     "text": [
      "/opt/conda/lib/python3.6/site-packages/ipykernel_launcher.py:5: UserWarning: This pattern has match groups. To actually get the groups, use str.extract.\n",
      "  \"\"\"\n"
     ]
    }
   ],
   "source": [
    "# teste1=grupo1(df)\n",
    "# teste1\n",
    "\n",
    "# # for i in range(125):\n",
    "#     print(df.loc[i,0])"
   ]
  },
  {
   "cell_type": "code",
   "execution_count": 4,
   "metadata": {
    "collapsed": true
   },
   "outputs": [],
   "source": [
    "months = { \"January\": \"01\", \"February\" :\"02\", \"March\":\"03\",\"April\":\"04\",\"May\":\"05\", \n",
    "          \"June\":\"06\",\"July\":\"07\",\n",
    "     \"August\":\"08\",\"September\":\"09\",\"October\":\"10\",\"November\":\"11\",\n",
    "          \"December\":\"12\", \"Jan\": \"01\", \n",
    "          \"Feb\" :\"02\", \"Mar\":\"03\",\"Apr\":\"04\",\"May\":\"05\",\"Jun\":\"06\",\n",
    "     \"Aug\":\"08\",\"Sept\":\"09\",\"Sep\":\"09\",\"Oct\":\"10\",\"Nov\":\"11\",\"Dec\":\"12\" } \n",
    "def grupo2(df,months):\n",
    "    seila=df[0].str.findall(r'([A-Z](\\w+)[\\s\\-\\.]\\s?(\\d?\\d)[\\s\\-\\,]\\s?(\\d{4}))')\n",
    "    df[\"jaPassei2\"]=df[0].str.contains(r'([A-Z](\\w+)[\\s\\-\\.]\\s?(\\d?\\d)[\\s\\-\\,]\\s?(\\d{4}))')\n",
    "    dataframeSeiLa=pd.DataFrame(seila)\n",
    "    dataframeGrupo2=dataframeSeiLa[dataframeSeiLa.astype(str)[0]!='[]']\n",
    "#     print(dataframeGrupo2)\n",
    "    for i in range(dataframeGrupo2.shape[0]):\n",
    "        dataframeGrupo2.iloc[i,0]=dataframeGrupo2.iloc[i,0][0][0]\n",
    "    dataframeGrupo2=dataframeGrupo2[0].str.extract(r'(([A-Z](\\w+))[\\s\\-\\.]\\s?(\\d?\\d)[\\s\\-\\,]\\s?(\\d{4}))')\n",
    "    dataframeGrupo2[1]=dataframeGrupo2[1].map(months)\n",
    "#     dataframeGrupo2=dataframeGrupo2[0].str.extract(r'([A-Z](\\w+)[\\s\\-\\.]\\s?(\\d?\\d)[\\s\\-\\,]\\s?(\\d{4}))')\n",
    "#     dataframeGrupo2[1]=dataframeGrupo2[1].map(months)\n",
    "\n",
    "    dataframeGrupo2['concat'] = dataframeGrupo2[1]+\"/\"+dataframeGrupo2[3]+\"/\"+dataframeGrupo2[4]\n",
    "    dataframeGrupo2=dataframeGrupo2[\"concat\"]\n",
    "    dataframeGrupo2=pd.DataFrame(dataframeGrupo2)\n",
    "    dataframeGrupo2['concat']=pd.to_datetime(dataframeGrupo2['concat'], infer_datetime_format=True)\n",
    "    dataframeGrupo2.dropna(inplace=True)\n",
    "    return dataframeGrupo2\n",
    "    "
   ]
  },
  {
   "cell_type": "code",
   "execution_count": 5,
   "metadata": {},
   "outputs": [
    {
     "name": "stderr",
     "output_type": "stream",
     "text": [
      "/opt/conda/lib/python3.6/site-packages/ipykernel_launcher.py:9: UserWarning: This pattern has match groups. To actually get the groups, use str.extract.\n",
      "  if __name__ == '__main__':\n",
      "/opt/conda/lib/python3.6/site-packages/pandas/core/indexing.py:179: SettingWithCopyWarning: \n",
      "A value is trying to be set on a copy of a slice from a DataFrame\n",
      "\n",
      "See the caveats in the documentation: http://pandas.pydata.org/pandas-docs/stable/indexing.html#indexing-view-versus-copy\n",
      "  self._setitem_with_indexer(indexer, value)\n",
      "/opt/conda/lib/python3.6/site-packages/ipykernel_launcher.py:14: SettingWithCopyWarning: \n",
      "A value is trying to be set on a copy of a slice from a DataFrame\n",
      "\n",
      "See the caveats in the documentation: http://pandas.pydata.org/pandas-docs/stable/indexing.html#indexing-view-versus-copy\n",
      "  \n",
      "/opt/conda/lib/python3.6/site-packages/ipykernel_launcher.py:15: FutureWarning: currently extract(expand=None) means expand=False (return Index/Series/DataFrame) but in a future version of pandas this will be changed to expand=True (return DataFrame)\n",
      "  from ipykernel import kernelapp as app\n"
     ]
    }
   ],
   "source": [
    "# teste=grupo2(df,months)\n",
    "# teste"
   ]
  },
  {
   "cell_type": "code",
   "execution_count": 6,
   "metadata": {
    "collapsed": true
   },
   "outputs": [],
   "source": [
    "# for i in range(194,227):\n",
    "#      print(df.loc[i,0])"
   ]
  },
  {
   "cell_type": "code",
   "execution_count": 7,
   "metadata": {
    "collapsed": true
   },
   "outputs": [],
   "source": [
    "months = { \"January\": \"01\",\"Janaury\":\"01\", \"February\" :\"02\", \"March\":\"03\",\"April\":\"04\",\"May\":\"05\", \n",
    "          \"June\":\"06\",\"July\":\"07\",\n",
    "     \"August\":\"08\",\"September\":\"09\",\"October\":\"10\",\"November\":\"11\",\n",
    "          \"December\":\"12\",\"Decemeber\":\"12\", \"Jan\": \"01\", \"AFeb\":\"02\",\n",
    "          \"Feb\" :\"02\", \"Mar\":\"03\",\"Apr\":\"04\",\"May\":\"05\",\"Jun\":\"06\",\"Jul\":\"07\",\n",
    "     \"Aug\":\"08\",\"IAug\":\"08\",\"Sept\":\"09\",\"Sep\":\"09\",\"Oct\":\"10\",\"Nov\":\"11\",\"Dec\":\"12\" } \n",
    "def grupo3(df,monthsAb):\n",
    "    grupo3=df[0].str.findall(r'((\\d?\\d)\\s([A-Z](\\w+))\\s(\\d{4}))')\n",
    "    dataframeGrupo3=pd.DataFrame(grupo3)\n",
    "    df[\"jaPassei3\"]=df[0].str.contains(r'((\\d?\\d)\\s([A-Z](\\w+))\\s(\\d{4}))')\n",
    "    dataframeGrupo3=dataframeGrupo3[dataframeGrupo3.astype(str)[0]!='[]']\n",
    "    for i in range(dataframeGrupo3.shape[0]):\n",
    "        dataframeGrupo3.iloc[i,0]=dataframeGrupo3.iloc[i,0][0][0]\n",
    "    dataframeGrupo3=dataframeGrupo3[0].str.extract(r'((\\d?\\d)\\s([A-Z](\\w+))\\s(\\d{4}))')\n",
    "    dataframeGrupo3[2]=dataframeGrupo3[2].map(monthsAb)\n",
    "    dataframeGrupo3['concat'] = dataframeGrupo3[2]+\"/\"+dataframeGrupo3[1]+\"/\"+dataframeGrupo3[4]\n",
    "    dataframeGrupo3=dataframeGrupo3[\"concat\"]\n",
    "    dataframeGrupo3=pd.DataFrame(dataframeGrupo3)\n",
    "    dataframeGrupo3['concat']=pd.to_datetime(dataframeGrupo3['concat'], infer_datetime_format=True)\n",
    "    dataframeGrupo3.dropna(inplace=True)\n",
    "    return dataframeGrupo3\n",
    "\n"
   ]
  },
  {
   "cell_type": "code",
   "execution_count": 8,
   "metadata": {},
   "outputs": [
    {
     "name": "stderr",
     "output_type": "stream",
     "text": [
      "/opt/conda/lib/python3.6/site-packages/ipykernel_launcher.py:10: UserWarning: This pattern has match groups. To actually get the groups, use str.extract.\n",
      "  # Remove the CWD from sys.path while we load stuff.\n",
      "/opt/conda/lib/python3.6/site-packages/ipykernel_launcher.py:14: FutureWarning: currently extract(expand=None) means expand=False (return Index/Series/DataFrame) but in a future version of pandas this will be changed to expand=True (return DataFrame)\n",
      "  \n"
     ]
    }
   ],
   "source": [
    "\n",
    "# teste=grupo3(df,months)\n",
    "# teste\n",
    "# for i in range(125,293):\n",
    "#      print(teste.loc[i,0])"
   ]
  },
  {
   "cell_type": "code",
   "execution_count": 9,
   "metadata": {
    "collapsed": true
   },
   "outputs": [],
   "source": [
    "# for i in range(125,193):\n",
    "#      print(df.loc[i,0])"
   ]
  },
  {
   "cell_type": "code",
   "execution_count": 10,
   "metadata": {
    "collapsed": true
   },
   "outputs": [],
   "source": [
    "monthsAb={ \"Jan\": \"01\", \n",
    "          \"Feb\" :\"02\", \"IAug\":\"08\",\"Mar\":\"03\",\"Apr\":\"04\",\"May\":\"05\",\"Jun\":\"06\",\n",
    "     \"Aug\":\"08\",\"Sept\":\"09\",\"Sep\":\"09\",\"September\":\"09\",\"Oct\":\"10\",\"Nov\":\"11\",\"Dec\":\"12\" ,\"March\":\"03\"} \n",
    "def grupo5(df,monthsAb):\n",
    "    grupo5=df[~(df[\"jaPassei1\"] ^df[\"jaPassei2\"]^ df[\"jaPassei3\"])]\n",
    "    grupo5=grupo5[0].str.findall(r'([A-Z]{1}\\w+\\,?\\s\\d{4})')\n",
    "    df[\"jaPassei5\"]=df[0].str.contains(r'([A-Z]{1}\\w+\\,?\\s\\d{4})')\n",
    "    dataframeGrupo5=pd.DataFrame(grupo5)\n",
    "    dataframeGrupo5=dataframeGrupo5[dataframeGrupo5.astype(str)[0]!='[]']\n",
    "    for i in range(dataframeGrupo5.shape[0]):\n",
    "# #         print(dataframeGrupo5.iloc[i,0][0])\n",
    "        dataframeGrupo5.iloc[i,0]=dataframeGrupo5.iloc[i,0][0]\n",
    "    dataframeGrupo5=dataframeGrupo5[0].str.extract(r'(([A-Z]{1}\\w+)\\,?\\s(\\d{4}))')\n",
    "    dataframeGrupo5[1]=dataframeGrupo5[1].map(monthsAb)\n",
    "    dataframeGrupo5['concat'] = dataframeGrupo5[1]+\"/\"+\"01\"+\"/\"+dataframeGrupo5[2]\n",
    "    dataframeGrupo5=dataframeGrupo5[\"concat\"]\n",
    "    dataframeGrupo5=pd.DataFrame(dataframeGrupo5)\n",
    "    dataframeGrupo5['concat']=pd.to_datetime(dataframeGrupo5['concat'], infer_datetime_format=True)\n",
    "    dataframeGrupo5.dropna(inplace=True)\n",
    "    return dataframeGrupo5"
   ]
  },
  {
   "cell_type": "code",
   "execution_count": 11,
   "metadata": {},
   "outputs": [
    {
     "name": "stderr",
     "output_type": "stream",
     "text": [
      "/opt/conda/lib/python3.6/site-packages/ipykernel_launcher.py:7: UserWarning: This pattern has match groups. To actually get the groups, use str.extract.\n",
      "  import sys\n",
      "/opt/conda/lib/python3.6/site-packages/ipykernel_launcher.py:13: FutureWarning: currently extract(expand=None) means expand=False (return Index/Series/DataFrame) but in a future version of pandas this will be changed to expand=True (return DataFrame)\n",
      "  del sys.path[0]\n"
     ]
    }
   ],
   "source": [
    "# teste=grupo5(df,months)\n",
    "# for i in range(teste.shape[0]):\n",
    "#     print(teste.iloc[i,0])\n",
    "# teste.shape"
   ]
  },
  {
   "cell_type": "code",
   "execution_count": 12,
   "metadata": {},
   "outputs": [
    {
     "name": "stderr",
     "output_type": "stream",
     "text": [
      "/opt/conda/lib/python3.6/site-packages/pandas/core/indexing.py:179: SettingWithCopyWarning: \n",
      "A value is trying to be set on a copy of a slice from a DataFrame\n",
      "\n",
      "See the caveats in the documentation: http://pandas.pydata.org/pandas-docs/stable/indexing.html#indexing-view-versus-copy\n",
      "  self._setitem_with_indexer(indexer, value)\n"
     ]
    }
   ],
   "source": [
    "# df[\"jaPassei5\"].loc[459]=False\n",
    "# df[\"jaPassei5\"].loc[499]=False"
   ]
  },
  {
   "cell_type": "code",
   "execution_count": 13,
   "metadata": {
    "collapsed": true
   },
   "outputs": [],
   "source": [
    "# for i in range(228,342):\n",
    "#     print(df.loc[i,0])"
   ]
  },
  {
   "cell_type": "code",
   "execution_count": 14,
   "metadata": {
    "collapsed": true
   },
   "outputs": [],
   "source": [
    "def grupo6(df):\n",
    "    grupo6=df[~(df[\"jaPassei1\"] ^df[\"jaPassei2\"]^ df[\"jaPassei3\"]^df[\"jaPassei5\"])]\n",
    "    df[\"jaPassei6\"]=grupo6[0].str.contains(r'(\\d?\\d\\/\\d{4})')\n",
    "    grupo6=grupo6[0].str.findall(r'(\\d?\\d\\/\\d{4})')\n",
    "    dataframeGrupo6=pd.DataFrame(grupo6)\n",
    "    dataframeGrupo6=dataframeGrupo6[dataframeGrupo6.astype(str)[0]!='[]']\n",
    "    for i in range(dataframeGrupo6.shape[0]):\n",
    "        dataframeGrupo6.iloc[i,0]=dataframeGrupo6.iloc[i,0][0]\n",
    "    dataframeGrupo6=dataframeGrupo6[0].str.extract(r'((\\d?\\d)\\/(\\d{4}))')\n",
    "#     # dataframeGrupo6[1]=dataframeGrupo6[1].map(monthsAb) nao fazer essa linha a partir do grupo 6\n",
    "    dataframeGrupo6['concat'] = dataframeGrupo6[1]+\"/\"+\"01\"+\"/\"+dataframeGrupo6[2]\n",
    "    dataframeGrupo6=dataframeGrupo6[\"concat\"]\n",
    "    dataframeGrupo6=pd.DataFrame(dataframeGrupo6)\n",
    "    dataframeGrupo6['concat']=pd.to_datetime(dataframeGrupo6['concat'], infer_datetime_format=True)\n",
    "    dataframeGrupo6.dropna(inplace=True)\n",
    "    return dataframeGrupo6\n"
   ]
  },
  {
   "cell_type": "code",
   "execution_count": 15,
   "metadata": {},
   "outputs": [
    {
     "name": "stderr",
     "output_type": "stream",
     "text": [
      "/opt/conda/lib/python3.6/site-packages/ipykernel_launcher.py:3: UserWarning: This pattern has match groups. To actually get the groups, use str.extract.\n",
      "  This is separate from the ipykernel package so we can avoid doing imports until\n",
      "/opt/conda/lib/python3.6/site-packages/ipykernel_launcher.py:9: FutureWarning: currently extract(expand=None) means expand=False (return Index/Series/DataFrame) but in a future version of pandas this will be changed to expand=True (return DataFrame)\n",
      "  if __name__ == '__main__':\n"
     ]
    }
   ],
   "source": [
    "# teste=grupo6(df)\n",
    "# teste"
   ]
  },
  {
   "cell_type": "code",
   "execution_count": 16,
   "metadata": {
    "collapsed": true
   },
   "outputs": [],
   "source": [
    "# listaIndicesDrop=[]\n",
    "# cleanList=[]\n",
    "def grupo7(df):\n",
    "#     for i in range(455,499):\n",
    "#         dataframeGrupo7=df.loc[i,0].find(r'(\\d{4})')\n",
    "#     dataframeGrupo7['concat'] = dataframeGrupo7[1]+\"/\"+\"01\"+\"/\"+dataframeGrupo7[2]\n",
    "#     dataframeGrupo7=dataframeGrupo7[\"concat\"]\n",
    "#     dataframeGrupo7=pd.DataFrame(dataframeGrupo7)\n",
    "#     dataframeGrupo7['concat']=pd.to_datetime(dataframeGrupo6['concat'], infer_datetime_format=True)\n",
    "#     dataframeGrupo7.dropna(inplace=True)\n",
    "#     grupo7=df[~(df[\"jaPassei1\"] ^df[\"jaPassei2\"]^ df[\"jaPassei3\"]^df[\"jaPassei5\"]^df[\"jaPassei6\"])]\n",
    "    ultimo=df.iloc[455:,0]\n",
    "    ultimo=pd.DataFrame(ultimo)\n",
    "    df[\"jaPassei7\"]=ultimo[0].str.contains(r'[12]\\d{3}')\n",
    "    grupo7=ultimo[0].str.findall(r'[12]\\d{3}')\n",
    "    dataframeGrupo7=pd.DataFrame(grupo7)\n",
    "    dataframeGrupo7=dataframeGrupo7[dataframeGrupo7.astype(str)[0]!='[]']\n",
    "    for i in range(dataframeGrupo7.shape[0]):\n",
    "        dataframeGrupo7.iloc[i,0]=dataframeGrupo7.iloc[i,0][0]\n",
    "#     dataframeGrupo7=dataframeGrupo7[0].str.extract(r'([12]\\d{3})')\n",
    "#     dataframeGrupo7.rename( \"concat\",inplace=True)\n",
    "    dataframeGrupo7[\"concat\"] = \"01\"+\"/\"+\"01\"+\"/\"+dataframeGrupo7\n",
    "    dataframeGrupo7['concat']=pd.to_datetime(dataframeGrupo7['concat'], infer_datetime_format=True)\n",
    "    dataframeGrupo7.dropna(inplace=True)\n",
    "# #     grupo7=df\n",
    "#     mascara que pega os meses escritos\n",
    "#     mascara=grupo7[0].str.contains(r'(Jan|Feb|Mar|Apr|Sep|May|June|Jun|July|Aug|Sept|Oct|Nov|Dec|January|February|March|April|August|September|October|November|December)(\\,)?\\s\\d{4}')\n",
    "#     dataframeGrupo7=pd.DataFrame(grupo7)\n",
    "#     mascaraInvertida=~mascara\n",
    "#     dataframeGrupo7=dataframeGrupo7[mascaraInvertida]\n",
    "# #     mascara que ṕega 00/00/00\n",
    "#     mascara2=grupo7[0].str.contains(r'((\\d?\\d)?\\/(\\d?\\d)\\/(\\d{2,4}))')\n",
    "#     mascaraInvertida2=~mascara2\n",
    "#     dataframeGrupo7=dataframeGrupo7[mascaraInvertida2]\n",
    "# #     especificamente soh para 00/0000\n",
    "# #     mascara3=grupo7[0].str.contains(r'((\\d?\\d)\\/(\\d{2,4}))')\n",
    "# #     mascaraInvertida3=~mascara3\n",
    "# #     dataframeGrupo7=dataframeGrupo7[mascaraInvertida3]\n",
    "#     padroesInteressa=dataframeGrupo7[0].str.findall(r'((19|20)\\d{2})')\n",
    "#     dataframeGrupo7=pd.DataFrame(padroesInteressa)\n",
    "# #     grupo7=pd.DataFrame(grupo7)\n",
    "#     dataframeGrupo7=dataframeGrupo7[dataframeGrupo7.astype(str)[0]!='[]']\n",
    "#     for i in range(dataframeGrupo7.shape[0]):\n",
    "#         dataframeGrupo7.iloc[i,0]=dataframeGrupo7.iloc[i,0][0][0]\n",
    "#     dataframeGrupo7['concat']=\"01\"+\"/\"+\"01\"+\"/\"+dataframeGrupo7[0]\n",
    "#     dataframeGrupo7=dataframeGrupo7['concat']\n",
    "#     dataframeGrupo7=pd.DataFrame(dataframeGrupo7)\n",
    "# #     dataframeGrupo7['concat']=dataframeGrupo7['concat'].str.replace(r'\\D+(01/01/(9|8|7|6|5|4|3)\\d{3})',\"NaN\")\n",
    "#     dataframeGrupo7['concat']=pd.to_datetime(dataframeGrupo7['concat'], infer_datetime_format=True)\n",
    "#     dataframeGrupo7.dropna(inplace=True)\n",
    "#     dataframeGrupo7=dataframeGrupo7.tail(183)\n",
    "    \n",
    "    \n",
    "    \n",
    "#     for i in range(dataframeGrupo7.shape[0]):\n",
    "#         for x in dataframeGrupo7.iloc[i,0][0]:\n",
    "#             if(x.find(r'(Jan|Feb|Mar|Apr|May|June|July|Aug|Sept|Oct|Nov|Dec|January|February|March|April|August|September|October|November|December)')==-1):\n",
    "#                 listaIndicesDrop.append(i)\n",
    "                \n",
    "#     [cleanList.append(x) for x in listaIndicesDrop if x not in cleanList]\n",
    "#     dataframeGrupo7.drop(dataframeGrupo7.index[cleanList],inplace=True)\n",
    "#     for i in range(dataframeGrupo7.shape[0]):\n",
    "#         if i in cleanList:\n",
    "#             print(dataframeGrupo7.iloc[i,0])\n",
    "#             dataframeGrupo7.drop(dataframeGrupo7.index[i],inplace=True)\n",
    "                \n",
    "#                 dataframeGrupo7.drop(dataframeGrupo7.index[i],inplace=True)\n",
    "\n",
    "#            dataframeGrupo7.iloc[i,0]=dataframeGrupo7.iloc[i,0][0][0]\n",
    "#         print(dataframeGrupo7.iloc[i,0][0])\n",
    "#         dataframeGrupo7.iloc[i,0]=dataframeGrupo7.iloc[i,0][0][0]\n",
    "#     dataframeGrupo7=dataframeGrupo7[0].str.extract(r'(\\b(19|20)\\d{2}\\b)')\n",
    "#     dataframeGrupo7['concat']=\"01\"+\"/\"+\"01\"+\"/\"+dataframeGrupo7[0]\n",
    "#     dataframeGrupo7=dataframeGrupo7['concat']\n",
    "#     dataframeGrupo7=pd.DataFrame(dataframeGrupo7)\n",
    "#     dataframeGrupo7['concat']=dataframeGrupo7['concat'].str.replace(r'\\D+(01/01/(9|8|7|6|5|4|3)\\d{3})',\"NaN\")\n",
    "#     dataframeGrupo7=dataframeGrupo7[\"concat\"]\n",
    "#     dataframeGrupo7=pd.DataFrame(dataframeGrupo7)\n",
    "#     dataframeGrupo7=pd.to_datetime(dataframeGrupo7['concat'], infer_datetime_format=True)\n",
    "#     dataframeGrupo7.dropna(inplace=True)\n",
    "#     return mascara\n",
    "#     aux=dataframeGrupo7\n",
    "    dataframeGrupo7=pd.DataFrame(dataframeGrupo7[\"concat\"])   \n",
    "#     dataframeGrupo7['concat']=aux\n",
    "    \n",
    "#     dataframeGrupo7=dataframeGrupo7.iloc[455:,0]\n",
    "#     return ultimo\n",
    "    return dataframeGrupo7\n",
    "    \n",
    "    "
   ]
  },
  {
   "cell_type": "code",
   "execution_count": 17,
   "metadata": {},
   "outputs": [
    {
     "data": {
      "text/plain": [
       "(45, 1)"
      ]
     },
     "execution_count": 17,
     "metadata": {},
     "output_type": "execute_result"
    }
   ],
   "source": [
    "teste=grupo7(df)\n",
    "# type(teste)\n",
    "teste.shape"
   ]
  },
  {
   "cell_type": "code",
   "execution_count": 27,
   "metadata": {
    "collapsed": true
   },
   "outputs": [],
   "source": [
    "def juntaTudo(df,months,monthsAb):\n",
    "    data1=grupo1(df)\n",
    "#     print(\"data1 = \"+str(data1.shape))\n",
    "    data2=grupo2(df,months)\n",
    "#     print(\"data2 = \"+str(data2.shape))\n",
    "    data3=grupo3(df,months)\n",
    "#     print(\"data3 = \"+str(data3.shape))\n",
    "    data5=grupo5(df,months)\n",
    "#     print(\"data5 = \"+str(data5.shape))\n",
    "    df[\"jaPassei5\"].loc[459]=False\n",
    "    df[\"jaPassei5\"].loc[499]=False\n",
    "    data6=grupo6(df)\n",
    "#     print(\"data6 = \"+str(data6.shape))\n",
    "    data7=grupo7(df)\n",
    "#     print(\"data7 = \"+str(data7.shape))\n",
    "    dataFinal=pd.concat([data1, data2,data3,data5,data6,data7])\n",
    "    return dataFinal"
   ]
  },
  {
   "cell_type": "code",
   "execution_count": 40,
   "metadata": {
    "collapsed": true
   },
   "outputs": [],
   "source": [
    "import numpy as np\n",
    "def finalDeTudo(df,months,monthsAb):\n",
    "    dataFlor=juntaTudo(df,months,monthsAb)\n",
    "    dataFlor = pd.DataFrame(dataFlor)\n",
    "#     dataFlor=np.argsort(dataFlor[\"concat\"])\n",
    "    dataFlor=dataFlor.sort_values(by=\"concat\",kind=\"mergesort\")\n",
    "    teste=dataFlor.index.tolist()\n",
    "    #     teste=list(dataFlor.index)\n",
    "    dados=pd.Series(teste)\n",
    "#     dados=dados.head(500)\n",
    "    return dados\n",
    "#     return pd.Series(pd.to_numeric(dataFlor))\n",
    "    "
   ]
  },
  {
   "cell_type": "code",
   "execution_count": 41,
   "metadata": {
    "collapsed": true
   },
   "outputs": [],
   "source": [
    "def date_sorter():\n",
    "    \n",
    "    # Your code here\n",
    "    lastDataframe=finalDeTudo(df,months,monthsAb)\n",
    "    \n",
    "    return lastDataframe"
   ]
  },
  {
   "cell_type": "code",
   "execution_count": 42,
   "metadata": {},
   "outputs": [
    {
     "name": "stderr",
     "output_type": "stream",
     "text": [
      "/opt/conda/lib/python3.6/site-packages/ipykernel_launcher.py:5: UserWarning: This pattern has match groups. To actually get the groups, use str.extract.\n",
      "  \"\"\"\n",
      "/opt/conda/lib/python3.6/site-packages/ipykernel_launcher.py:9: UserWarning: This pattern has match groups. To actually get the groups, use str.extract.\n",
      "  if __name__ == '__main__':\n",
      "/opt/conda/lib/python3.6/site-packages/pandas/core/indexing.py:179: SettingWithCopyWarning: \n",
      "A value is trying to be set on a copy of a slice from a DataFrame\n",
      "\n",
      "See the caveats in the documentation: http://pandas.pydata.org/pandas-docs/stable/indexing.html#indexing-view-versus-copy\n",
      "  self._setitem_with_indexer(indexer, value)\n",
      "/opt/conda/lib/python3.6/site-packages/ipykernel_launcher.py:14: SettingWithCopyWarning: \n",
      "A value is trying to be set on a copy of a slice from a DataFrame\n",
      "\n",
      "See the caveats in the documentation: http://pandas.pydata.org/pandas-docs/stable/indexing.html#indexing-view-versus-copy\n",
      "  \n",
      "/opt/conda/lib/python3.6/site-packages/ipykernel_launcher.py:15: FutureWarning: currently extract(expand=None) means expand=False (return Index/Series/DataFrame) but in a future version of pandas this will be changed to expand=True (return DataFrame)\n",
      "  from ipykernel import kernelapp as app\n",
      "/opt/conda/lib/python3.6/site-packages/ipykernel_launcher.py:10: UserWarning: This pattern has match groups. To actually get the groups, use str.extract.\n",
      "  # Remove the CWD from sys.path while we load stuff.\n",
      "/opt/conda/lib/python3.6/site-packages/ipykernel_launcher.py:14: FutureWarning: currently extract(expand=None) means expand=False (return Index/Series/DataFrame) but in a future version of pandas this will be changed to expand=True (return DataFrame)\n",
      "  \n",
      "/opt/conda/lib/python3.6/site-packages/ipykernel_launcher.py:7: UserWarning: This pattern has match groups. To actually get the groups, use str.extract.\n",
      "  import sys\n",
      "/opt/conda/lib/python3.6/site-packages/ipykernel_launcher.py:13: FutureWarning: currently extract(expand=None) means expand=False (return Index/Series/DataFrame) but in a future version of pandas this will be changed to expand=True (return DataFrame)\n",
      "  del sys.path[0]\n",
      "/opt/conda/lib/python3.6/site-packages/ipykernel_launcher.py:3: UserWarning: This pattern has match groups. To actually get the groups, use str.extract.\n",
      "  This is separate from the ipykernel package so we can avoid doing imports until\n",
      "/opt/conda/lib/python3.6/site-packages/ipykernel_launcher.py:9: FutureWarning: currently extract(expand=None) means expand=False (return Index/Series/DataFrame) but in a future version of pandas this will be changed to expand=True (return DataFrame)\n",
      "  if __name__ == '__main__':\n"
     ]
    },
    {
     "data": {
      "text/plain": [
       "0        9\n",
       "1       84\n",
       "2        2\n",
       "3       53\n",
       "4       28\n",
       "5      474\n",
       "6      153\n",
       "7       13\n",
       "8      129\n",
       "9       98\n",
       "10     111\n",
       "11     225\n",
       "12      31\n",
       "13     171\n",
       "14     191\n",
       "15     486\n",
       "16     335\n",
       "17     415\n",
       "18      36\n",
       "19     323\n",
       "20     405\n",
       "21     422\n",
       "22     375\n",
       "23     380\n",
       "24     345\n",
       "25      57\n",
       "26     481\n",
       "27     436\n",
       "28     104\n",
       "29     299\n",
       "      ... \n",
       "470    220\n",
       "471    208\n",
       "472    243\n",
       "473    139\n",
       "474    320\n",
       "475    383\n",
       "476    244\n",
       "477    286\n",
       "478    480\n",
       "479    431\n",
       "480    279\n",
       "481    198\n",
       "482    381\n",
       "483    463\n",
       "484    366\n",
       "485    255\n",
       "486    439\n",
       "487    401\n",
       "488    475\n",
       "489    257\n",
       "490    152\n",
       "491    235\n",
       "492    464\n",
       "493    253\n",
       "494    231\n",
       "495    427\n",
       "496    141\n",
       "497    186\n",
       "498    161\n",
       "499    413\n",
       "Length: 500, dtype: int64"
      ]
     },
     "execution_count": 42,
     "metadata": {},
     "output_type": "execute_result"
    }
   ],
   "source": [
    "date_sorter()"
   ]
  },
  {
   "cell_type": "code",
   "execution_count": 22,
   "metadata": {
    "collapsed": true
   },
   "outputs": [],
   "source": [
    "# for i in dados:\n",
    "#     if(dados[i]==499):\n",
    "#         print(i)"
   ]
  },
  {
   "cell_type": "code",
   "execution_count": null,
   "metadata": {
    "collapsed": true
   },
   "outputs": [],
   "source": []
  }
 ],
 "metadata": {
  "coursera": {
   "course_slug": "python-text-mining",
   "graded_item_id": "LvcWI",
   "launcher_item_id": "krne9",
   "part_id": "Mkp1I"
  },
  "kernelspec": {
   "display_name": "Python 3",
   "language": "python",
   "name": "python3"
  },
  "language_info": {
   "codemirror_mode": {
    "name": "ipython",
    "version": 3
   },
   "file_extension": ".py",
   "mimetype": "text/x-python",
   "name": "python",
   "nbconvert_exporter": "python",
   "pygments_lexer": "ipython3",
   "version": "3.6.2"
  }
 },
 "nbformat": 4,
 "nbformat_minor": 2
}
